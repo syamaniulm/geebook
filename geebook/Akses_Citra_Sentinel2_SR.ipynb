{
 "cells": [
  {
   "cell_type": "markdown",
   "id": "569e7a4e-80a1-42ec-993d-24747297fc43",
   "metadata": {},
   "source": [
    "# **Mengakses Citra Sentinel-2 MSI Surface Reflectance**"
   ]
  },
  {
   "cell_type": "code",
   "execution_count": null,
   "id": "9663ac0d-7f48-40e5-b63d-f640e93642a8",
   "metadata": {},
   "outputs": [],
   "source": [
    "import ee"
   ]
  },
  {
   "cell_type": "code",
   "execution_count": null,
   "id": "d35f3048-ee0f-4cb6-abfe-76f9a5362114",
   "metadata": {},
   "outputs": [],
   "source": [
    "# Autentikasi Google Earth Engine\n",
    "\n",
    "ee.Authenticate()"
   ]
  },
  {
   "cell_type": "code",
   "execution_count": null,
   "id": "7a9ca121-7a7b-4371-9723-d82bf7cc680c",
   "metadata": {},
   "outputs": [],
   "source": [
    "# Ganti 'ee-yourproject' sesuai dengan Earth Engine Project Anda\n",
    "\n",
    "ee.Initialize(project='ee-yourproject')"
   ]
  },
  {
   "cell_type": "code",
   "execution_count": null,
   "id": "12c38055-eb14-4e70-bdc4-563e297d63c0",
   "metadata": {},
   "outputs": [],
   "source": [
    "# Penentuan rentang waktu akuisisi citra sesuai keperluan\n",
    "\n",
    "tgl_awal = '2024-06-01'\n",
    "tgl_akhir = '2024-06-30'"
   ]
  },
  {
   "cell_type": "code",
   "execution_count": null,
   "id": "f73db7a8-0110-4724-a610-f57ffbd94cd8",
   "metadata": {},
   "outputs": [],
   "source": [
    "# Penentuan titik fokus citra yang akan ditampilkan\n",
    "# Koordinat bisa didapatkan dari Google Map dalam format bujur-lintang\n",
    "\n",
    "titik = ee.Geometry.Point([114.776874, -3.449037])"
   ]
  },
  {
   "cell_type": "code",
   "execution_count": null,
   "id": "bb9b95ea-3eac-479a-809b-f3e72eb43f04",
   "metadata": {},
   "outputs": [],
   "source": [
    "# Mengakses koleksi Citra Sentinel-2 MSI surface reflectance\n",
    "# Menggunakan rentcang waktu yang sudah ditentukan\n",
    "# Persentase awan pada citra maksimum 20% (lte: less than or equal)\n",
    "\n",
    "s2_col = (\n",
    "    ee.ImageCollection('COPERNICUS/S2_HARMONIZED')\n",
    "    .filterDate(tgl_awal,tgl_akhir)\n",
    "    .filter(ee.Filter.lte('CLOUDY_PIXEL_PERCENTAGE',20))\n",
    ")"
   ]
  },
  {
   "cell_type": "code",
   "execution_count": null,
   "id": "0543d5a4-e1e0-495f-95a4-ae377106b19d",
   "metadata": {},
   "outputs": [],
   "source": [
    "# Visualisasi RGB Sentinel-2 MSI\n",
    "\n",
    "import geemap\n",
    "\n",
    "rgb_vis = {'min': 0, 'max': 5000, 'bands': ['B12','B11','B4']}\n",
    "\n",
    "s2_map = geemap.Map()\n",
    "s2_map.centerObject(titik,12)\n",
    "s2_map.add_layer(s2_col.median(), rgb_vis, 'Sentinel-2 RGB')\n",
    "s2_map"
   ]
  },
  {
   "cell_type": "markdown",
   "id": "ec6255ff-f3a6-47e2-81f4-17bc57514105",
   "metadata": {},
   "source": [
    "**Mengakses Google Drive dan membuka shapefile**"
   ]
  },
  {
   "cell_type": "code",
   "execution_count": null,
   "id": "9ee5b08c-0be1-47cc-94c3-0ebe6ac6dd91",
   "metadata": {},
   "outputs": [],
   "source": [
    "# Mengakses Google Drive\n",
    "# Sesuaikan nama folder Anda, contoh di bawah nama foldernya adalah 'geebook'\n",
    "\n",
    "from google.colab import drive\n",
    "\n",
    "drive.mount('/content/gdrive')\n",
    "path = '/content/gdrive/MyDrive/geebook'"
   ]
  },
  {
   "cell_type": "code",
   "execution_count": null,
   "id": "6b4f53fb-d5e4-40b0-a5c2-4f882ca06c0a",
   "metadata": {},
   "outputs": [],
   "source": [
    "# Membuka shapefile dari Google Drive\n",
    "# Shapefile wajib poligon dan memiliki sistem koordinat geografis (bukan UTM), dan tanpa atribut ZM\n",
    "# Sesuaikan nama shapefile dan lokasi folder shapefile Anda di dalam Google Drive\n",
    "# Contoh di bawah, 'Banjarbaru.shp' terletak di dalam folder 'vector', di dalam folder 'geebook'\n",
    "\n",
    "import geopandas as gpd\n",
    "\n",
    "region_shp = gpd.read_file(path + '/vector/Banjarbaru.shp')\n",
    "region_shp.plot()"
   ]
  },
  {
   "cell_type": "code",
   "execution_count": null,
   "id": "4caea692-6fce-4891-829b-3931daa35f4d",
   "metadata": {},
   "outputs": [],
   "source": [
    "# Mengkonversi shapefile menjadi Earth Engine geometry\n",
    "\n",
    "import json\n",
    "\n",
    "region_js = json.loads(region_shp.to_json())\n",
    "region_fc = ee.FeatureCollection(region_js)\n",
    "region = ee.Geometry(region_fc.geometry())"
   ]
  },
  {
   "cell_type": "markdown",
   "id": "d32c4d8c-b1d0-4e92-8fd7-6c8a8ae127cb",
   "metadata": {},
   "source": [
    "**Memilih band dan memotong citra**"
   ]
  },
  {
   "cell_type": "code",
   "execution_count": null,
   "id": "b901bd43-a3bc-4841-bb85-4dc0a9eedf27",
   "metadata": {},
   "outputs": [],
   "source": [
    "# Memilih band-band Sentinel-2 yang diperlukan\n",
    "\n",
    "s2_image = s2_col.median().select('B2','B3','B4','B8','B11','B12')"
   ]
  },
  {
   "cell_type": "code",
   "execution_count": null,
   "id": "a58a3c84-a339-465c-9b31-057590d6f6ab",
   "metadata": {},
   "outputs": [],
   "source": [
    "# Memotong Sentinel-2 menurut batas wilayah\n",
    "\n",
    "s2_clipped = s2_image.clip(region)"
   ]
  },
  {
   "cell_type": "code",
   "execution_count": null,
   "id": "af98c24b-b966-4454-be2b-3b327bd9016c",
   "metadata": {},
   "outputs": [],
   "source": [
    "# Visualisasi RGB Sentinel-2 MSI yang sudah dipotong\n",
    "\n",
    "s2_map = geemap.Map()\n",
    "s2_map.centerObject(region,12)\n",
    "s2_map.add_layer(s2_clipped, rgb_vis, 'Sentinel-2 RGB')\n",
    "s2_map"
   ]
  },
  {
   "cell_type": "markdown",
   "id": "adc4bb5e-173c-4631-bf35-7b8e1c0ec2a3",
   "metadata": {},
   "source": [
    "**Mengekspor citra yang sudah dipotong ke dalam Google Drive**"
   ]
  },
  {
   "cell_type": "code",
   "execution_count": null,
   "id": "7de6afb9-7d40-488f-a80b-1684a2cfb589",
   "metadata": {},
   "outputs": [],
   "source": [
    "# Mengekspor Citra Sentinel-2 ke dalam Google Drive\n",
    "# Citra akan tersimpan di dalam folder 'Citra' dengan nama 'S2_SR_image.tif'\n",
    "# Resolusi spasial 10 meter dan Sistem Koordinat UTM WGS 1984 Zone 50S ('EPSG:32750')\n",
    "\n",
    "task_s2 = ee.batch.Export.image.toDrive(\n",
    "    image=s2_clipped,\n",
    "    description='S2_SR_image',\n",
    "    folder='Citra',\n",
    "    scale=10,\n",
    "    maxPixels=1e13,\n",
    "    crs='EPSG:32750'\n",
    ")\n",
    "\n",
    "task_s2.start()"
   ]
  },
  {
   "cell_type": "code",
   "execution_count": null,
   "id": "b7ecc8e3-abc5-4c5b-b1dc-f6373981ca9a",
   "metadata": {},
   "outputs": [],
   "source": [
    "# Mencek status ekspor citra ke dalam Google Drive\n",
    "# Jika statusnya 'RUNNING' berarti proses ekspor belum selesai\n",
    "# Jika statusnya 'COMPLETED' berarti proses ekspor sudah selesai\n",
    "# Jika statusnya 'READY' berarti sudah ada citra dengan nama dan folder yang sama\n",
    "# Anda dapat logout dari Google Colab atau mematikan komputer, proses ekspor akan terus berjalan sampai selesai\n",
    "\n",
    "task_s2.status()"
   ]
  }
 ],
 "metadata": {
  "kernelspec": {
   "display_name": "Python 3 (ipykernel)",
   "language": "python",
   "name": "python3"
  },
  "language_info": {
   "codemirror_mode": {
    "name": "ipython",
    "version": 3
   },
   "file_extension": ".py",
   "mimetype": "text/x-python",
   "name": "python",
   "nbconvert_exporter": "python",
   "pygments_lexer": "ipython3",
   "version": "3.9.20"
  }
 },
 "nbformat": 4,
 "nbformat_minor": 5
}
